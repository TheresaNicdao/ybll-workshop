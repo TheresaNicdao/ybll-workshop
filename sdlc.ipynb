{
 "cells": [
  {
   "cell_type": "markdown",
   "metadata": {},
   "source": [
    "## YBLL Workshop #10\n",
    "## Part I: SDLC\n",
    "\n",
    "\n",
    "### Instruction:\n",
    "\n",
    "1. Form a group, consisting of five (5) members.\n",
    "\n",
    "2. The task is to build a website for PhilDev Cafe. As the PhilDev Foundation new dev team, your plan and strategy should adhere with the Software Development Life Cycle process.\n",
    " \n",
    "3. Identify and organize each stage of SDLC. Present your output for each identified stages."
   ]
  },
  {
   "cell_type": "markdown",
   "metadata": {},
   "source": []
  }
 ],
 "metadata": {
  "language_info": {
   "name": "python"
  }
 },
 "nbformat": 4,
 "nbformat_minor": 2
}
