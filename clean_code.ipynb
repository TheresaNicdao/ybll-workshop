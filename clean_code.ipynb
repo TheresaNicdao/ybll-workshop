{
 "cells": [
  {
   "cell_type": "markdown",
   "metadata": {},
   "source": [
    "# Instruction:\n",
    "\n",
    "For each code snippet, identify and suggest fixes for any clean code violations."
   ]
  },
  {
   "cell_type": "markdown",
   "metadata": {
    "vscode": {
     "languageId": "plaintext"
    }
   },
   "source": [
    "### Exercise 1"
   ]
  },
  {
   "cell_type": "code",
   "execution_count": null,
   "metadata": {
    "vscode": {
     "languageId": "plaintext"
    }
   },
   "outputs": [],
   "source": [
    "def f1(lst):\n",
    "    m = lst[0]\n",
    "    for n in lst:\n",
    "        if n > m:\n",
    "            m = n\n",
    "    return m\n",
    "\n",
    "# Testing the function\n",
    "l = [12, 7, 9, 15, 18, 16, 34, 27]\n",
    "print(f1(l))"
   ]
  },
  {
   "cell_type": "markdown",
   "metadata": {},
   "source": [
    "### Exercise 2"
   ]
  },
  {
   "cell_type": "code",
   "execution_count": null,
   "metadata": {
    "vscode": {
     "languageId": "plaintext"
    }
   },
   "outputs": [],
   "source": [
    "def calculate_and_print(numbers):\n",
    "    s = 0  #sum calculation\n",
    "    for num in numbers: s += num\n",
    "    average = s / len(numbers)\n",
    "    # print(\"Sum:\",s,\",Average:\",average)\n",
    "    print(f\"Sum: {s}, Average: {average}\")\n",
    "\n",
    "    m = max(numbers)  #finding maximum\n",
    "    print(f\"Max: {m}\")\n",
    "\n",
    "    m = min(numbers)  #finding minimum\n",
    "    print(f\"Min: {m}\")\n",
    "          \n",
    "    print('Count:', len(numbers))  #counting the numbers\n",
    "\n",
    "calculate_and_print([100,200,300,400,500])"
   ]
  },
  {
   "cell_type": "markdown",
   "metadata": {},
   "source": [
    "### Exercise 3"
   ]
  },
  {
   "cell_type": "markdown",
   "metadata": {},
   "source": [
    "from datetime import date, datetime\n",
    "\n",
    "def student_info(name, bday, class_year, major, address, phone_number, email, gpa, student_id, advisor):\n",
    "    today = date.today()\n",
    "    age = today.year - bday.year\n",
    "    if today.month < bday.month or (today.month == bday.month and today.day < bday.day):\n",
    "        age -= 1\n",
    "    \n",
    "    return {\n",
    "        'Name': name,\n",
    "        'Age': age,\n",
    "        'Class Year': class_year,\n",
    "        'Major': major,\n",
    "        'Address': address,\n",
    "        'Phone Number': phone_number,\n",
    "        'Email': email,\n",
    "        'GPA': gpa,\n",
    "        'Student ID': student_id,\n",
    "        'Advisor': advisor,\n",
    "    }\n",
    "\n",
    "student = student_info('Phil Snow', datetime(2000,4,6), 'Sophomore', 'Computer Science', '123 Main St', '123-456-7890', 'psnow@factset.com', 3.5, '102030', 'Dr. Cruz')\n",
    "print(student)"
   ]
  },
  {
   "cell_type": "markdown",
   "metadata": {},
   "source": [
    "### Exercise 4"
   ]
  },
  {
   "cell_type": "markdown",
   "metadata": {},
   "source": [
    "def update(account, amt):\n",
    "    # This function updates the balance for a given bank account\n",
    "    # and then prints the new balance.\n",
    "    # Also, it returns the new balance to the caller.\n",
    "\n",
    "    # start for loop here\n",
    "    for a in amt:\n",
    "       account.balance += a\n",
    "    # end for loop here\n",
    "    \n",
    "    print('New balance is:', account.balance)\n",
    "    return account.balance\n",
    "\n",
    "print(update(account, [100, 200, 300, 400, 500])) #print"
   ]
  },
  {
   "cell_type": "markdown",
   "metadata": {},
   "source": [
    "### Exercise 5"
   ]
  },
  {
   "cell_type": "markdown",
   "metadata": {},
   "source": [
    "class ReadingManager:\n",
    "    def __init__(self):\n",
    "        self.book = []\n",
    "        self.magazines = []\n",
    "\n",
    "    def add_book(self, book):\n",
    "        self.book.append(book)\n",
    "        #print(self.books)\n",
    "\n",
    "    def show(self):\n",
    "        for book in self.book:\n",
    "            print(book)\n",
    "\n",
    "    def display(self):\n",
    "        for book in self.book:\n",
    "            print(book)\n",
    "\n",
    "r = ReadingManager()\n",
    "r.add_book('Harry Potter')\n",
    "r.show() # Shows all books"
   ]
  }
 ],
 "metadata": {
  "language_info": {
   "name": "python"
  }
 },
 "nbformat": 4,
 "nbformat_minor": 2
}
